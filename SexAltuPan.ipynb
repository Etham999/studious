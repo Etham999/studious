{
  "nbformat": 4,
  "nbformat_minor": 0,
  "metadata": {
    "colab": {
      "provenance": [],
      "authorship_tag": "ABX9TyNqwgJgQGBmhWgHk0ahF1Wm",
      "include_colab_link": true
    },
    "kernelspec": {
      "name": "python3",
      "display_name": "Python 3"
    },
    "language_info": {
      "name": "python"
    }
  },
  "cells": [
    {
      "cell_type": "markdown",
      "metadata": {
        "id": "view-in-github",
        "colab_type": "text"
      },
      "source": [
        "<a href=\"https://colab.research.google.com/github/Etham999/studious/blob/main/SexAltuPan.ipynb\" target=\"_parent\"><img src=\"https://colab.research.google.com/assets/colab-badge.svg\" alt=\"Open In Colab\"/></a>"
      ]
    },
    {
      "cell_type": "code",
      "execution_count": 25,
      "metadata": {
        "colab": {
          "base_uri": "https://localhost:8080/"
        },
        "id": "eOFblo2Dguvq",
        "outputId": "272f8317-0ed2-408e-88b6-30104eb33d6a"
      },
      "outputs": [
        {
          "output_type": "stream",
          "name": "stdout",
          "text": [
            "Requirement already satisfied: pandas in /usr/local/lib/python3.10/dist-packages (1.5.3)\n",
            "Requirement already satisfied: python-dateutil>=2.8.1 in /usr/local/lib/python3.10/dist-packages (from pandas) (2.8.2)\n",
            "Requirement already satisfied: pytz>=2020.1 in /usr/local/lib/python3.10/dist-packages (from pandas) (2023.4)\n",
            "Requirement already satisfied: numpy>=1.21.0 in /usr/local/lib/python3.10/dist-packages (from pandas) (1.25.2)\n",
            "Requirement already satisfied: six>=1.5 in /usr/local/lib/python3.10/dist-packages (from python-dateutil>=2.8.1->pandas) (1.16.0)\n",
            "Mais baixo do grupo: 1.4\n",
            "Mais alto do grupo: 1.9\n",
            "Número de homens do grupo: 9\n",
            "Número de mulheres do grupo: 6\n",
            "Altura média dos homens do grupo: 1.7444444444444445\n"
          ]
        }
      ],
      "source": [
        "!pip install pandas\n",
        "import pandas as pd\n",
        "\n",
        "# Dados de entrada\n",
        "data = {\"sex\":['f', 'f', 'f', 'f', 'f', 'f','m', 'm','m', 'm', 'm', 'm', 'm', 'm', 'm'],\n",
        "\"alt\" :[1.4, 1.5, 1.6, 1.7, 1.8, 1.4, 1.6, 1.7, 1.8, 1.9, 1.8, 1.7, 1.6, 1.8, 1.8]}\n",
        "\n",
        "df = pd.DataFrame(data)\n",
        "# Calcular as alturas (menor e maior do grupo)\n",
        "min_height = df[\"alt\"].min()\n",
        "max_height = df[\"alt\"].max()\n",
        "# Contar o número de homens e de mulheres\n",
        "num_men = df.loc[df[\"sex\"]== \"m\",\"sex\"].count()\n",
        "num_women = df.loc[df[\"sex\"] == \"f\", \"sex\"].count()\n",
        "# Média das alturas dos homens\n",
        "avg_men_height = df.loc[df[\"sex\"] == \"m\",\"alt\"].mean()\n",
        "# Prints dos resultados solicitados\n",
        "print(f\"Mais baixo do grupo: {min_height}\")\n",
        "print(f\"Mais alto do grupo: {max_height}\")\n",
        "print(f\"Número de homens do grupo: {num_men}\")\n",
        "print(f\"Número de mulheres do grupo: {num_women}\")\n",
        "print(f\"Altura média dos homens do grupo: {avg_men_height}\")"
      ]
    }
  ]
}