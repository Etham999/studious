{
  "nbformat": 4,
  "nbformat_minor": 0,
  "metadata": {
    "colab": {
      "provenance": [],
      "authorship_tag": "ABX9TyPkNlueKoCWG67FAoRZ7QwP",
      "include_colab_link": true
    },
    "kernelspec": {
      "name": "python3",
      "display_name": "Python 3"
    },
    "language_info": {
      "name": "python"
    }
  },
  "cells": [
    {
      "cell_type": "markdown",
      "metadata": {
        "id": "view-in-github",
        "colab_type": "text"
      },
      "source": [
        "<a href=\"https://colab.research.google.com/github/Etham999/studious/blob/main/SexAltuPan.ipynb\" target=\"_parent\"><img src=\"https://colab.research.google.com/assets/colab-badge.svg\" alt=\"Open In Colab\"/></a>"
      ]
    },
    {
      "cell_type": "code",
      "execution_count": 7,
      "metadata": {
        "colab": {
          "base_uri": "https://localhost:8080/"
        },
        "id": "eOFblo2Dguvq",
        "outputId": "522df982-5021-47b6-a857-88255709ce00"
      },
      "outputs": [
        {
          "output_type": "stream",
          "name": "stdout",
          "text": [
            "Requirement already satisfied: pandas in /usr/local/lib/python3.10/dist-packages (1.5.3)\n",
            "Requirement already satisfied: python-dateutil>=2.8.1 in /usr/local/lib/python3.10/dist-packages (from pandas) (2.8.2)\n",
            "Requirement already satisfied: pytz>=2020.1 in /usr/local/lib/python3.10/dist-packages (from pandas) (2023.4)\n",
            "Requirement already satisfied: numpy>=1.21.0 in /usr/local/lib/python3.10/dist-packages (from pandas) (1.25.2)\n",
            "Requirement already satisfied: six>=1.5 in /usr/local/lib/python3.10/dist-packages (from python-dateutil>=2.8.1->pandas) (1.16.0)\n",
            "Minimun height : 1.4\n",
            "Maximun height : 1.9\n",
            "Number of men : 9\n",
            "Number of women : 6\n",
            "Average height of men: 1.7444444444444445\n"
          ]
        }
      ],
      "source": [
        "!pip install pandas\n",
        "import pandas as pd\n",
        "\n",
        "# Dados de entrada\n",
        "data = {\"sex\":['f', 'f', 'f', 'f', 'f', 'f','m', 'm','m', 'm', 'm', 'm', 'm', 'm', 'm'],\n",
        "\"alt\" :[1.4, 1.5, 1.6, 1.7, 1.8, 1.4, 1.6, 1.7, 1.8, 1.9, 1.8, 1.7, 1.6, 1.8, 1.8]}\n",
        "\n",
        "df = pd.DataFrame(data)\n",
        "# Calcular as alturas (menor e maior do grupo)\n",
        "min_height = df[\"alt\"].min()\n",
        "max_height = df[\"alt\"].max()\n",
        "# Contar o número de homens e de mulheres\n",
        "num_men = df.loc[df[\"sex\"]== \"m\",\"sex\"].count()\n",
        "num_women = df.loc[df[\"sex\"]== \"f\", \"sex\"].count()\n",
        "# Média das alturas dos homens\n",
        "avg_men_heigth = df.loc[df[\"sex\"]==\"m\",\"alt\"].mean()\n",
        "# Prints dos resultados solicitados\n",
        "print(f\"Minimun height : {min_height}\")\n",
        "print(f\"Maximun height : {max_height}\")\n",
        "print(f\"Number of men : {num_men}\")\n",
        "print(f\"Number of women : {num_women}\")\n",
        "print(f\"Average height of men: {avg_men_heigth}\")"
      ]
    }
  ]
}